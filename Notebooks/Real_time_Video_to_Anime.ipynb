{
 "cells": [
  {
   "cell_type": "code",
   "execution_count": null,
   "id": "eb3f5e1c",
   "metadata": {},
   "outputs": [],
   "source": [
    "#@title Install and run once\n",
    "!git clone git@github.com:avhishekpandey/RealTime_video-to-anime.git\n",
    "!cd ./Checkpoints/\n",
    "!wget --no-check-certificate 'https://docs.google.com/uc?export=download&id=1VPAPI84qaPUCHKHJLHiMK7BP_JE66xNe' -O AnimeGAN_Hayao.onnx\n",
    "!wget --no-check-certificate 'https://docs.google.com/uc?export=download&id=17XRNQgQoUAnu6SM5VgBuhqSBO4UAVNI1' -O AnimeGANv2_Hayao.onnx\n",
    "!wget --no-check-certificate 'https://docs.google.com/uc?export=download&id=10rQfe4obW0dkNtsQuWg-szC4diBzYFXK' -O AnimeGANv2_Shinkai.onnx\n",
    "!wget --no-check-certificate 'https://docs.google.com/uc?export=download&id=1X3Glf69Ter_n2Tj6p81VpGKx7U4Dq-tI' -O AnimeGANv2_Paprika.onnx\n",
    "!cd ..\n",
    "!pip install -r requirments.txt\n"
   ]
  },
  {
   "cell_type": "code",
   "execution_count": null,
   "id": "539baa29",
   "metadata": {},
   "outputs": [],
   "source": [
    "#@title Run the Real-Time video to anime app"
   ]
  }
 ],
 "metadata": {
  "kernelspec": {
   "display_name": "Python 3 (ipykernel)",
   "language": "python",
   "name": "python3"
  },
  "language_info": {
   "codemirror_mode": {
    "name": "ipython",
    "version": 3
   },
   "file_extension": ".py",
   "mimetype": "text/x-python",
   "name": "python",
   "nbconvert_exporter": "python",
   "pygments_lexer": "ipython3",
   "version": "3.9.12"
  }
 },
 "nbformat": 4,
 "nbformat_minor": 5
}
