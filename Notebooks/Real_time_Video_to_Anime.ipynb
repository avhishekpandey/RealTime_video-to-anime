{
 "cells": [
  {
   "cell_type": "markdown",
   "id": "a841be2c",
   "metadata": {
    "colab_type": "text",
    "id": "view-in-github"
   },
   "source": [
    "<a href=\"https://colab.research.google.com/github/avhishekpandey/RealTime_video-to-anime/blob/main/Notebooks/Real_time_Video_to_Anime.ipynb\" target=\"_parent\"><img src=\"https://colab.research.google.com/assets/colab-badge.svg\" alt=\"Open In Colab\"/></a>"
   ]
  },
  {
   "cell_type": "code",
   "execution_count": null,
   "id": "eb3f5e1c",
   "metadata": {
    "id": "eb3f5e1c"
   },
   "outputs": [],
   "source": [
    "#@title Install and run once\n",
    "!git clone \n",
    "!cd RealTime_video-to-anime/Checkpoints/\n",
    "!wget --no-check-certificate 'https://docs.google.com/uc?export=download&id=1VPAPI84qaPUCHKHJLHiMK7BP_JE66xNe' -O AnimeGAN_Hayao.onnx\n",
    "!wget --no-check-certificate 'https://docs.google.com/uc?export=download&id=17XRNQgQoUAnu6SM5VgBuhqSBO4UAVNI1' -O AnimeGANv2_Hayao.onnx\n",
    "!wget --no-check-certificate 'https://docs.google.com/uc?export=download&id=10rQfe4obW0dkNtsQuWg-szC4diBzYFXK' -O AnimeGANv2_Shinkai.onnx\n",
    "!wget --no-check-certificate 'https://docs.google.com/uc?export=download&id=1X3Glf69Ter_n2Tj6p81VpGKx7U4Dq-tI' -O AnimeGANv2_Paprika.onnx\n",
    "!cd ..\n",
    "!pip install -r requirments.txt\n"
   ]
  },
  {
   "cell_type": "code",
   "execution_count": null,
   "id": "539baa29",
   "metadata": {
    "id": "539baa29"
   },
   "outputs": [],
   "source": [
    "#@title Run the Real-Time video to anime app\n",
    "!python3 -m streamlit run app.py"
   ]
  }
 ],
 "metadata": {
  "colab": {
   "include_colab_link": true,
   "provenance": []
  },
  "kernelspec": {
   "display_name": "Python 3 (ipykernel)",
   "language": "python",
   "name": "python3"
  },
  "language_info": {
   "codemirror_mode": {
    "name": "ipython",
    "version": 3
   },
   "file_extension": ".py",
   "mimetype": "text/x-python",
   "name": "python",
   "nbconvert_exporter": "python",
   "pygments_lexer": "ipython3",
   "version": "3.9.12"
  }
 },
 "nbformat": 4,
 "nbformat_minor": 5
}
